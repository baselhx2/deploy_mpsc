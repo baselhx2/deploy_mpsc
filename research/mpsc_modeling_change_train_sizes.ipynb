{
 "cells": [
  {
   "cell_type": "markdown",
   "metadata": {
    "id": "90VLijx8ekKv"
   },
   "source": [
    "# MPSC modeling experiment\n",
    "<hr >\n",
    "\n",
    "In this notebook we will train model with different train set sizes and see how the model will be affected"
   ]
  },
  {
   "cell_type": "code",
   "execution_count": 1,
   "metadata": {
    "id": "0pEQFMv3iQwc"
   },
   "outputs": [],
   "source": [
    "import warnings; warnings.filterwarnings('ignore')\n",
    "import sys\n",
    "import numpy as np\n",
    "import pandas as pd\n",
    "from scipy.sparse import csr_matrix\n",
    "from sklearn.model_selection import train_test_split\n",
    "from sklearn.base import BaseEstimator, TransformerMixin\n",
    "from sklearn.pipeline import FeatureUnion, Pipeline\n",
    "from sklearn.preprocessing import OneHotEncoder\n",
    "import tensorflow as tf\n",
    "from tensorflow import keras\n",
    "from keras.preprocessing.text import Tokenizer\n",
    "from keras.preprocessing.sequence import pad_sequences\n",
    "from keras import layers, Model\n",
    "import matplotlib.pyplot as plt"
   ]
  },
  {
   "cell_type": "code",
   "execution_count": 2,
   "metadata": {
    "colab": {
     "base_uri": "https://localhost:8080/"
    },
    "id": "Pbq-v12BNe6r",
    "outputId": "5914bb58-321e-491a-c8e7-58b550fd310f"
   },
   "outputs": [
    {
     "name": "stdout",
     "output_type": "stream",
     "text": [
      "we are using colab env\n",
      "\n",
      "Drive already mounted at /content/drive; to attempt to forcibly remount, call drive.mount(\"/content/drive\", force_remount=True).\n"
     ]
    }
   ],
   "source": [
    "COLAB = \"google.colab\" in sys.modules\n",
    "if COLAB:\n",
    "    print('we are using colab env\\n')\n",
    "    from google.colab import drive\n",
    "    drive._mount('/content/drive')\n",
    "    DATA_PATH = '/content/drive/MyDrive/mpsc/data/' # path to our data on Colab\n",
    "    MODELS_PATH = '/content/drive/MyDrive/mpsc/models/'\n",
    "else:\n",
    "    DATA_PATH = '../data/' # path to our data on local machine\n",
    "    MODELS_PATH = '../models/'\n",
    "    \n",
    "TARGET = 'price'\n",
    "SEED = 123\n",
    "MAX_NUM_WORDS_NAME = 40000\n",
    "MAX_NUM_WORDS_DESC = 80000\n",
    "MAX_SEQ_LEN_NAME = 20\n",
    "MAX_SEQ_LEN_DESC = 64"
   ]
  },
  {
   "cell_type": "code",
   "execution_count": 3,
   "metadata": {
    "id": "8H91M-LIiRBS"
   },
   "outputs": [],
   "source": [
    "class Transformer(BaseEstimator, TransformerMixin):\n",
    "    def fit(self, X, y=None):\n",
    "        return self\n",
    "    \n",
    "    \n",
    "class ColumnSelector(Transformer):\n",
    "    def __init__(self, column=None, columns=None, fillna_value=None, fillna_from_column=None):\n",
    "        self.column = column\n",
    "        self.columns = columns\n",
    "        self.fillna_value = fillna_value\n",
    "        self.fillna_from_column = fillna_from_column\n",
    "    \n",
    "    def transform(self, df):\n",
    "        if self.column and self.columns:\n",
    "            raise Exception('You can not use both option [column, columns]')\n",
    "        elif self.column:\n",
    "            series = df[self.column]\n",
    "        elif self.columns:\n",
    "            series = df.apply(lambda x: ' '.join([str(x[f]) for f in self.columns]), axis=1)\n",
    "        else:\n",
    "            raise Exception('You have to chose one option [column, columns]')\n",
    "\n",
    "        if self.fillna_from_column:\n",
    "            series = series.fillna(df[self.fillna_from_column])\n",
    "            \n",
    "        if self.fillna_value:\n",
    "            series = series.fillna(self.fillna_value)\n",
    "        \n",
    "        return series\n",
    "    \n",
    "    \n",
    "class SubCategorySpliter(Transformer):\n",
    "    def __init__(self, delimiter='/', maxsplit=2, nth_split=0):\n",
    "        self.delimiter = delimiter\n",
    "        self.nth_split = nth_split\n",
    "        self.maxsplit = maxsplit\n",
    "        \n",
    "    def transform(self, series):\n",
    "        return series.apply(lambda x: x.split(self.delimiter, self.maxsplit)[self.nth_split])\n",
    "    \n",
    "    \n",
    "class SeriesToArray(Transformer):\n",
    "    def __init__(self, shape=(-1, 1)):\n",
    "        self.shape = shape\n",
    "        \n",
    "    def transform(self, series):\n",
    "        return series.values.reshape(self.shape)\n",
    "    \n",
    "    \n",
    "class TextToSeq(Transformer):\n",
    "    def __init__(\n",
    "        self,\n",
    "        num_words=None,\n",
    "        filters='!\"#$%&()*+,-./:;<=>?@[\\\\]^_`{|}~\\t\\n',\n",
    "        lower=True,\n",
    "        maxlen=100,\n",
    "        sparse=True,\n",
    "        dtype=np.uint32\n",
    "    ):\n",
    "        self.num_words = num_words\n",
    "        self.filters = filters\n",
    "        self.lower = lower\n",
    "        self.maxlen = maxlen\n",
    "        self.sparse = sparse\n",
    "        self.dtype = dtype\n",
    "        \n",
    "    def fit(self, series, y=None):\n",
    "        self.tokenizer = Tokenizer(num_words=self.num_words, filters=self.filters, lower=self.lower)\n",
    "        self.tokenizer.fit_on_texts(series)\n",
    "        \n",
    "        return self\n",
    "        \n",
    "    def transform(self, series):\n",
    "        seqs = self.tokenizer.texts_to_sequences(series)\n",
    "        pad_seqs = pad_sequences(seqs, maxlen=self.maxlen, dtype=self.dtype)\n",
    "        if self.sparse:\n",
    "            pad_seqs = csr_matrix(pad_seqs)\n",
    "        \n",
    "        return pad_seqs\n",
    "    \n",
    "    \n",
    "class DataGenerator(keras.utils.Sequence):\n",
    "    def __init__(self, df, pipes, target, batch_size=1024, train=True, shuffle=True):\n",
    "        self.df = df\n",
    "        self.pipes = pipes\n",
    "        self.target = target\n",
    "        self.train = train\n",
    "        self.batch_size = batch_size\n",
    "        self.shuffle = shuffle\n",
    "        self.on_epoch_end()\n",
    "        \n",
    "    def __len__(self):\n",
    "        return int(np.ceil(len(self.df)/ self.batch_size))\n",
    "    \n",
    "    def __getitem__(self, idx):\n",
    "        sub_idxs = self.idxs[idx*self.batch_size:(idx+1)*self.batch_size]\n",
    "        sub_df = self.df.iloc[sub_idxs]\n",
    "        X, y = self.__data_generation(sub_df)\n",
    "        \n",
    "        return X, y\n",
    "\n",
    "    def on_epoch_end(self):\n",
    "        self.idxs = np.arange(len(self.df))\n",
    "        if self.shuffle:\n",
    "            self.df = self.df.sample(frac=1).reset_index(drop=True)\n",
    "\n",
    "    def __data_generation(self, sub_df):\n",
    "        X = [pipe.transform(sub_df) for pipe in self.pipes]\n",
    "        if self.train:\n",
    "            return X, np.log1p(sub_df[self.target].values)\n",
    "        \n",
    "        return X"
   ]
  },
  {
   "cell_type": "code",
   "execution_count": 4,
   "metadata": {
    "id": "yPP57EJsilhA"
   },
   "outputs": [],
   "source": [
    "df = pd.read_csv(DATA_PATH+ 'mpsc_train.csv')\n",
    "df_train_, df_valid = train_test_split(df, random_state=SEED, train_size=0.8)"
   ]
  },
  {
   "cell_type": "code",
   "execution_count": 5,
   "metadata": {
    "id": "2OPRj9KHPV-E"
   },
   "outputs": [],
   "source": [
    "class TransformerBlock(layers.Layer):\n",
    "    def __init__(self, embed_dim, num_heads, ff_dim, dropout_rate=0.1, **kwargs):\n",
    "        super(TransformerBlock, self).__init__(**kwargs)\n",
    "        self.att = layers.MultiHeadAttention(num_heads=num_heads, key_dim=embed_dim)\n",
    "        self.ffn = keras.Sequential(\n",
    "            [layers.Dense(ff_dim, activation=\"relu\"), layers.Dense(embed_dim),]\n",
    "        )\n",
    "        self.layernorm1 = layers.LayerNormalization(epsilon=1e-6)\n",
    "        self.layernorm2 = layers.LayerNormalization(epsilon=1e-6)\n",
    "        self.dropout1 = layers.Dropout(dropout_rate)\n",
    "        self.dropout2 = layers.Dropout(dropout_rate)\n",
    "\n",
    "    def call(self, inputs, training):\n",
    "        attn_output = self.att(inputs, inputs)\n",
    "        attn_output = self.dropout1(attn_output, training=training)\n",
    "        out1 = self.layernorm1(inputs + attn_output)\n",
    "        ffn_output = self.ffn(out1)\n",
    "        ffn_output = self.dropout2(ffn_output, training=training)\n",
    "        return self.layernorm2(out1 + ffn_output)\n",
    "    \n",
    "    \n",
    "class CustomOutputLayer(layers.Layer):\n",
    "    def __init__(self, min_val, max_val, **kwargs):\n",
    "        super(CustomOutputLayer, self).__init__(**kwargs)\n",
    "        self.min_val = min_val\n",
    "        self.max_val = max_val\n",
    "        \n",
    "    def call(self, inputs):\n",
    "        outputs = tf.sigmoid(inputs)* (self.max_val- self.min_val)+ self.min_val\n",
    "        output = tf.reduce_mean(outputs, axis=1, keepdims=True)\n",
    "        \n",
    "        return output\n",
    "        \n",
    "def get_model(seq_1_len, seq_2_len, feats_len, seq_1_max, seq_2_max, out_min_val, out_max_val, use_cuslayer=True):\n",
    "    seq_1 = layers.Input((seq_1_len,))\n",
    "    s_1 = layers.Embedding(seq_1_max, 128)(seq_1)\n",
    "    s_1 = TransformerBlock(128, 4, 128)(s_1)\n",
    "    s_1 = layers.GlobalAvgPool1D()(s_1)\n",
    "    \n",
    "    seq_2 = layers.Input((seq_2_len,))\n",
    "    s_2 = layers.Embedding(seq_2_max, 128)(seq_2)\n",
    "    s_2 = TransformerBlock(128, 4, 128)(s_2)\n",
    "    s_2 = layers.GlobalAvgPool1D()(s_2)\n",
    "    \n",
    "    rest_ = layers.Input((feats_len,))\n",
    "    \n",
    "    vec = layers.Concatenate(axis=1)([s_1, s_2, layers.Dense(64)(rest_)])\n",
    "    vec = layers.Dense(64)(vec)\n",
    "    if use_cuslayer:\n",
    "        out = CustomOutputLayer(out_min_val, out_max_val)(vec)\n",
    "    else:\n",
    "        out = layers.Dense(1)(vec)\n",
    "        \n",
    "    model = Model(inputs=[seq_1, seq_2, rest_], outputs=[out])\n",
    "    \n",
    "    return model"
   ]
  },
  {
   "cell_type": "code",
   "execution_count": 9,
   "metadata": {
    "colab": {
     "base_uri": "https://localhost:8080/"
    },
    "id": "D5pY_ZDHNwu0",
    "outputId": "e62c3350-cb47-43d1-8019-927f8d276dcb"
   },
   "outputs": [
    {
     "name": "stdout",
     "output_type": "stream",
     "text": [
      "Fit the model on 0.2 of training set:\n",
      "Epoch 1/3\n",
      "186/186 [==============================] - 52s 265ms/step - loss: 0.3540 - val_loss: 0.2496\n",
      "Epoch 2/3\n",
      "186/186 [==============================] - 50s 270ms/step - loss: 0.2231 - val_loss: 0.2376\n",
      "Epoch 3/3\n",
      "186/186 [==============================] - 54s 289ms/step - loss: 0.1926 - val_loss: 0.2328\n",
      "--------------------------------\n",
      "Fit the model on 0.5 of training set:\n",
      "Epoch 1/3\n",
      "464/464 [==============================] - 116s 242ms/step - loss: 0.2798 - val_loss: 0.2343\n",
      "Epoch 2/3\n",
      "464/464 [==============================] - 101s 219ms/step - loss: 0.2057 - val_loss: 0.2185\n",
      "Epoch 3/3\n",
      "464/464 [==============================] - 111s 239ms/step - loss: 0.1845 - val_loss: 0.2101\n",
      "--------------------------------\n",
      "Fit the model on 0.8 of training set:\n",
      "Epoch 1/3\n",
      "742/742 [==============================] - 142s 188ms/step - loss: 0.2602 - val_loss: 0.2177\n",
      "Epoch 2/3\n",
      "742/742 [==============================] - 128s 172ms/step - loss: 0.1983 - val_loss: 0.2053\n",
      "Epoch 3/3\n",
      "742/742 [==============================] - 128s 172ms/step - loss: 0.1783 - val_loss: 0.1991\n",
      "--------------------------------\n"
     ]
    }
   ],
   "source": [
    "models = []\n",
    "historys = []\n",
    "fracs = [.2, .5, .8]\n",
    "for frac in fracs:\n",
    "    print(f'Fit the model on {frac} of training set:')\n",
    "    df_train = df_train_.sample(frac=frac)\n",
    "    pipe_name = Pipeline([\n",
    "        ('selector', ColumnSelector(columns=['brand_name', 'name'], fillna_from_column='item_description', fillna_value='')),\n",
    "        ('seq', TextToSeq(num_words=MAX_NUM_WORDS_NAME, maxlen=MAX_SEQ_LEN_NAME, sparse=False)),\n",
    "    ]).fit(df_train)\n",
    "\n",
    "    pipe_desc = Pipeline([\n",
    "        ('selector', ColumnSelector(column='item_description', fillna_from_column='name', fillna_value='No description yet')),\n",
    "        ('seq', TextToSeq(num_words=MAX_NUM_WORDS_DESC, maxlen=MAX_SEQ_LEN_DESC, sparse=False)),\n",
    "    ]).fit(df_train)\n",
    "\n",
    "    pipe_othe = FeatureUnion([\n",
    "        ('category_name', Pipeline([\n",
    "            ('selector', ColumnSelector(column='category_name', fillna_value='Other/Other/Other')),\n",
    "            ('cats', FeatureUnion([\n",
    "                (f'sub_{i}', Pipeline([\n",
    "                    ('sub', SubCategorySpliter(delimiter='/', maxsplit=2, nth_split=i)),\n",
    "                    ('sta', SeriesToArray()),\n",
    "                    ('ohe', OneHotEncoder(handle_unknown='ignore', sparse=False, dtype=np.uint8)),\n",
    "                ])) for i in range(3)\n",
    "                ])),\n",
    "        ])),\n",
    "        ('item_condition_id', Pipeline([\n",
    "            ('selector', ColumnSelector(column='item_condition_id')),\n",
    "            ('sta', SeriesToArray()),\n",
    "            ('ohe', OneHotEncoder(handle_unknown='ignore', sparse=False, dtype=np.uint8))\n",
    "        ])),\n",
    "        ('shipping', Pipeline([\n",
    "            ('selector', ColumnSelector(column='shipping')),\n",
    "            ('sta', SeriesToArray()),\n",
    "            ('ohe', OneHotEncoder(handle_unknown='ignore', sparse=False, dtype=np.uint8))\n",
    "        ])),\n",
    "    ]).fit(df_train)\n",
    "\n",
    "    pipes = [pipe_name, pipe_desc, pipe_othe]\n",
    "\n",
    "    dg_train = DataGenerator(df=df_train, pipes=pipes, target=TARGET, batch_size=1024)\n",
    "    dg_valid = DataGenerator(df=df_valid, pipes=pipes, target=TARGET, batch_size=1024, shuffle=False)\n",
    "\n",
    "    model = get_model(pipe_name.transform(df_train.iloc[0:1]).shape[1],\n",
    "                  pipe_desc.transform(df_train.iloc[0:1]).shape[1],\n",
    "                  pipe_othe.transform(df_train.iloc[0:1]).shape[1],\n",
    "                  MAX_NUM_WORDS_NAME,\n",
    "                  MAX_NUM_WORDS_DESC,\n",
    "                  0,\n",
    "                  8\n",
    "                 )\n",
    "    model.compile(loss='mse', optimizer=keras.optimizers.Adam(beta_1=0.9, beta_2=0.9))\n",
    "    historys.append(model.fit(dg_train, validation_data=dg_valid, epochs=3, verbose=1))\n",
    "    models.append(model)\n",
    "    print('-'*32)"
   ]
  },
  {
   "cell_type": "code",
   "execution_count": 13,
   "metadata": {
    "id": "8gUgObBUVOoH"
   },
   "outputs": [],
   "source": [
    "fracs=[.2, .5, .8]"
   ]
  },
  {
   "cell_type": "code",
   "execution_count": 14,
   "metadata": {
    "colab": {
     "base_uri": "https://localhost:8080/",
     "height": 312
    },
    "id": "hVncTpSERiUH",
    "outputId": "d42ef74c-5d7e-4361-926e-5586609854fd"
   },
   "outputs": [
    {
     "data": {
      "text/plain": [
       "<matplotlib.legend.Legend at 0x7f61f5554d50>"
      ]
     },
     "execution_count": 14,
     "metadata": {},
     "output_type": "execute_result"
    },
    {
     "data": {
      "image/png": "[encoded data removed]",
      "text/plain": [
       "<Figure size 432x288 with 1 Axes>"
      ]
     },
     "metadata": {
      "needs_background": "light"
     },
     "output_type": "display_data"
    }
   ],
   "source": [
    "legends = []\n",
    "plt.title('Compare models trained on diffirent fractions of train')\n",
    "for i, c in enumerate(['r', 'b', 'g']):\n",
    "    plt.plot(historys[i].history['loss'], f'{c}')\n",
    "    plt.plot(historys[i].history['val_loss'], f'{c}--')\n",
    "    legends += [f'train_loss for {fracs[i]} train', f'val_loss for {fracs[i]} train']\n",
    "\n",
    "plt.ylabel('loss')\n",
    "plt.xlabel('epoch')\n",
    "plt.legend(legends, loc='upper right')"
   ]
  },
  {
   "cell_type": "code",
   "execution_count": null,
   "metadata": {
    "colab": {
     "background_save": true
    },
    "id": "_4CdDd5DdKT3"
   },
   "outputs": [],
   "source": []
  }
 ],
 "metadata": {
  "accelerator": "GPU",
  "colab": {
   "collapsed_sections": [],
   "name": "mpsc_train_diff_train_sizes.ipynb",
   "provenance": []
  },
  "kernelspec": {
   "display_name": "Python 3 (ipykernel)",
   "language": "python",
   "name": "python3"
  },
  "language_info": {
   "codemirror_mode": {
    "name": "ipython",
    "version": 3
   },
   "file_extension": ".py",
   "mimetype": "text/x-python",
   "name": "python",
   "nbconvert_exporter": "python",
   "pygments_lexer": "ipython3",
   "version": "3.10.1"
  }
 },
 "nbformat": 4,
 "nbformat_minor": 1
}
