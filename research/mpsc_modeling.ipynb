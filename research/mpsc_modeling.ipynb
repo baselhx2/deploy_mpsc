{
 "cells": [
  {
   "cell_type": "markdown",
   "metadata": {
    "id": "90VLijx8ekKv"
   },
   "source": [
    "# MPSC Train\n",
    "<hr >\n",
    "\n",
    "In this notebook we will train models, and test some ideas"
   ]
  },
  {
   "cell_type": "markdown",
   "metadata": {
    "id": "t7ibzw9ieu_u"
   },
   "source": [
    "## Table Of Content\n",
    "<hr >\n",
    "\n",
    "1. [Introduction](#Introduction)\n",
    "2. [Imports and Load](#Imports-and-Load)"
   ]
  },
  {
   "cell_type": "markdown",
   "metadata": {
    "id": "k8O0X4GCe9yL"
   },
   "source": [
    "## Introduction\n",
    "<hr >\n",
    "\n",
    "> The flow for our taraining process will be as in chart below\n",
    "\n",
    ">![](./img/flow_diagram.png)"
   ]
  },
  {
   "cell_type": "code",
   "execution_count": 1,
   "metadata": {
    "id": "0pEQFMv3iQwc"
   },
   "outputs": [],
   "source": [
    "import warnings; warnings.filterwarnings('ignore')\n",
    "import sys\n",
    "import joblib\n",
    "import numpy as np\n",
    "import pandas as pd\n",
    "from scipy.sparse import csr_matrix\n",
    "from sklearn.model_selection import train_test_split\n",
    "from sklearn.base import BaseEstimator, TransformerMixin\n",
    "from sklearn.pipeline import FeatureUnion, Pipeline\n",
    "from sklearn.preprocessing import OneHotEncoder\n",
    "import tensorflow as tf\n",
    "from tensorflow import keras\n",
    "from keras.preprocessing.text import Tokenizer\n",
    "from keras.preprocessing.sequence import pad_sequences\n",
    "from keras import layers, Model"
   ]
  },
  {
   "cell_type": "code",
   "execution_count": 2,
   "metadata": {
    "colab": {
     "base_uri": "https://localhost:8080/"
    },
    "id": "Pbq-v12BNe6r",
    "outputId": "b39390b3-d56c-4c43-f5d6-efe7132d45a2"
   },
   "outputs": [
    {
     "name": "stdout",
     "output_type": "stream",
     "text": [
      "we are using colab env\n",
      "\n",
      "Drive already mounted at /content/drive; to attempt to forcibly remount, call drive.mount(\"/content/drive\", force_remount=True).\n"
     ]
    }
   ],
   "source": [
    "COLAB = \"google.colab\" in sys.modules\n",
    "if COLAB:\n",
    "    print('we are using colab env\\n')\n",
    "    from google.colab import drive\n",
    "    drive._mount('/content/drive')\n",
    "    DATA_PATH = '/content/drive/MyDrive/mpsc/data/' # path to our data on Colab\n",
    "    MODELS_PATH = '/content/drive/MyDrive/mpsc/models/'\n",
    "else:\n",
    "    DATA_PATH = '../data/' # path to our data on local machine\n",
    "    MODELS_PATH = '../models/'\n",
    "    \n",
    "TARGET = 'price'\n",
    "SEED = 123\n",
    "MAX_NUM_WORDS_NAME = 40000\n",
    "MAX_NUM_WORDS_DESC = 80000\n",
    "MAX_SEQ_LEN_NAME = 20\n",
    "MAX_SEQ_LEN_DESC = 64"
   ]
  },
  {
   "cell_type": "code",
   "execution_count": 3,
   "metadata": {
    "id": "8H91M-LIiRBS"
   },
   "outputs": [],
   "source": [
    "class Transformer(BaseEstimator, TransformerMixin):\n",
    "    def fit(self, X, y=None):\n",
    "        return self\n",
    "    \n",
    "    \n",
    "class ItemSelector(Transformer):\n",
    "    def __init__(self, field, fillna_value=None, fillna_from_field=None):\n",
    "        self.field = field\n",
    "        self.fillna_value = fillna_value\n",
    "        self.fillna_from_field = fillna_from_field\n",
    "    \n",
    "    def transform(self, df):\n",
    "        series = df[self.field]\n",
    "        if self.fillna_from_field:\n",
    "            series = series.fillna(df[self.fillna_from_field])\n",
    "            \n",
    "        if self.fillna_value:\n",
    "            series = series.fillna(self.fillna_value)\n",
    "        \n",
    "        return series\n",
    "    \n",
    "    \n",
    "class SubCategorySpliter(Transformer):\n",
    "    def __init__(self, delimiter='/', maxsplit=2, nth_split=0):\n",
    "        self.delimiter = delimiter\n",
    "        self.nth_split = nth_split\n",
    "        self.maxsplit = maxsplit\n",
    "        \n",
    "    def transform(self, series):\n",
    "        return series.apply(lambda x: x.split(self.delimiter, self.maxsplit)[self.nth_split])\n",
    "    \n",
    "    \n",
    "class SeriesToArray(Transformer):\n",
    "    def __init__(self, shape=(-1, 1)):\n",
    "        self.shape = shape\n",
    "        \n",
    "    def transform(self, series):\n",
    "        return series.values.reshape(self.shape)\n",
    "    \n",
    "    \n",
    "class TextToSeq(Transformer):\n",
    "    def __init__(\n",
    "        self,\n",
    "        num_words=None,\n",
    "        filters='!\"#$%&()*+,-./:;<=>?@[\\\\]^_`{|}~\\t\\n',\n",
    "        lower=True,\n",
    "        maxlen=100,\n",
    "        sparse=True,\n",
    "        dtype=np.uint32\n",
    "    ):\n",
    "        self.num_words = num_words\n",
    "        self.filters = filters\n",
    "        self.lower = lower\n",
    "        self.maxlen = maxlen\n",
    "        self.sparse = sparse\n",
    "        self.dtype = dtype\n",
    "        \n",
    "    def fit(self, series, y=None):\n",
    "        self.tokenizer = Tokenizer(num_words=self.num_words, filters=self.filters, lower=self.lower)\n",
    "        self.tokenizer.fit_on_texts(series)\n",
    "        \n",
    "        return self\n",
    "        \n",
    "    def transform(self, series):\n",
    "        seqs = self.tokenizer.texts_to_sequences(series)\n",
    "        pad_seqs = pad_sequences(seqs, maxlen=self.maxlen, dtype=self.dtype)\n",
    "        if self.sparse:\n",
    "            pad_seqs = csr_matrix(pad_seqs)\n",
    "        \n",
    "        return pad_seqs\n",
    "    \n",
    "    \n",
    "class DataGenerator(keras.utils.Sequence):\n",
    "    def __init__(self, df, pipes, target, batch_size=1024, train=True, shuffle=True):\n",
    "        self.df = df\n",
    "        self.pipes = pipes\n",
    "        self.target = target\n",
    "        self.train = train\n",
    "        self.batch_size = batch_size\n",
    "        self.shuffle = shuffle\n",
    "        self.on_epoch_end()\n",
    "        \n",
    "    def __len__(self):\n",
    "        return int(np.ceil(len(self.df)/ self.batch_size))\n",
    "    \n",
    "    def __getitem__(self, idx):\n",
    "        sub_idxs = self.idxs[idx*self.batch_size:(idx+1)*self.batch_size]\n",
    "        sub_df = self.df.iloc[sub_idxs]\n",
    "        X, y = self.__data_generation(sub_df)\n",
    "        \n",
    "        return X, y\n",
    "\n",
    "    def on_epoch_end(self):\n",
    "        self.idxs = np.arange(len(self.df))\n",
    "        if self.shuffle:\n",
    "            self.df = self.df.sample(frac=1).reset_index(drop=True)\n",
    "\n",
    "    def __data_generation(self, sub_df):\n",
    "        X = [pipe.transform(sub_df) for pipe in self.pipes]\n",
    "        if self.train:\n",
    "            return X, np.log1p(sub_df[self.target].values)\n",
    "        \n",
    "        return X"
   ]
  },
  {
   "cell_type": "code",
   "execution_count": 4,
   "metadata": {
    "id": "yPP57EJsilhA"
   },
   "outputs": [],
   "source": [
    "df = pd.read_csv(DATA_PATH+ 'mpsc_train.csv')\n",
    "df_train, df_valid = train_test_split(df, random_state=SEED, train_size=0.8)\n",
    "\n",
    "pipe_name = Pipeline([\n",
    "    ('selector', ItemSelector(field='name', fillna_from_field='item_description', fillna_value='')),\n",
    "    ('seq', TextToSeq(num_words=MAX_NUM_WORDS_NAME, maxlen=MAX_SEQ_LEN_NAME, sparse=False)),\n",
    "]).fit(df_train)\n",
    "\n",
    "pipe_desc = Pipeline([\n",
    "    ('selector', ItemSelector(field='item_description', fillna_from_field='name', fillna_value='No description yet')),\n",
    "    ('seq', TextToSeq(num_words=MAX_NUM_WORDS_DESC, maxlen=MAX_SEQ_LEN_DESC, sparse=False)),\n",
    "]).fit(df_train)\n",
    "\n",
    "pipe_othe = FeatureUnion([\n",
    "    ('category_name', Pipeline([\n",
    "        ('selector', ItemSelector(field='category_name', fillna_value='Other/Other/Other')),\n",
    "        ('cats', FeatureUnion([\n",
    "            (f'sub_{i}', Pipeline([\n",
    "                ('sub', SubCategorySpliter(delimiter='/', maxsplit=2, nth_split=i)),\n",
    "                ('sta', SeriesToArray()),\n",
    "                ('ohe', OneHotEncoder(handle_unknown='ignore', sparse=False, dtype=np.uint8)),\n",
    "            ])) for i in range(3)\n",
    "            ])),\n",
    "    ])),\n",
    "    ('item_condition_id', Pipeline([\n",
    "        ('selector', ItemSelector(field='item_condition_id')),\n",
    "        ('sta', SeriesToArray()),\n",
    "        ('ohe', OneHotEncoder(handle_unknown='ignore', sparse=False, dtype=np.uint8))\n",
    "    ])),\n",
    "    ('brand_name', Pipeline([\n",
    "        ('selector', ItemSelector(field='brand_name', fillna_value='Other')),\n",
    "        ('sta', SeriesToArray()),\n",
    "        ('ohe', OneHotEncoder(handle_unknown='ignore', sparse=False, dtype=np.uint8))\n",
    "    ])),\n",
    "    ('shipping', Pipeline([\n",
    "        ('selector', ItemSelector(field='shipping')),\n",
    "        ('sta', SeriesToArray()),\n",
    "        ('ohe', OneHotEncoder(handle_unknown='ignore', sparse=False, dtype=np.uint8))\n",
    "    ])),\n",
    "]).fit(df_train)\n",
    "\n",
    "pipes = [pipe_name, pipe_desc, pipe_othe]\n",
    "\n",
    "dg_train = DataGenerator(df=df_train, pipes=pipes, target=TARGET, batch_size=1024)\n",
    "dg_valid = DataGenerator(df=df_valid, pipes=pipes, target=TARGET, batch_size=1024, shuffle=False)"
   ]
  },
  {
   "cell_type": "code",
   "execution_count": 5,
   "metadata": {
    "id": "2OPRj9KHPV-E"
   },
   "outputs": [],
   "source": [
    "class TransformerBlock(layers.Layer):\n",
    "    def __init__(self, embed_dim, num_heads, ff_dim, dropout_rate=0.1, **kwargs):\n",
    "        super(TransformerBlock, self).__init__(**kwargs)\n",
    "        self.att = layers.MultiHeadAttention(num_heads=num_heads, key_dim=embed_dim)\n",
    "        self.ffn = keras.Sequential(\n",
    "            [layers.Dense(ff_dim, activation=\"relu\"), layers.Dense(embed_dim),]\n",
    "        )\n",
    "        self.layernorm1 = layers.LayerNormalization(epsilon=1e-6)\n",
    "        self.layernorm2 = layers.LayerNormalization(epsilon=1e-6)\n",
    "        self.dropout1 = layers.Dropout(dropout_rate)\n",
    "        self.dropout2 = layers.Dropout(dropout_rate)\n",
    "\n",
    "    def call(self, inputs, training):\n",
    "        attn_output = self.att(inputs, inputs)\n",
    "        attn_output = self.dropout1(attn_output, training=training)\n",
    "        out1 = self.layernorm1(inputs + attn_output)\n",
    "        ffn_output = self.ffn(out1)\n",
    "        ffn_output = self.dropout2(ffn_output, training=training)\n",
    "        return self.layernorm2(out1 + ffn_output)\n",
    "    \n",
    "    \n",
    "class CustomOutputLayer(layers.Layer):\n",
    "    def __init__(self, min_val, max_val, **kwargs):\n",
    "        super(CustomOutputLayer, self).__init__(**kwargs)\n",
    "        self.min_val = min_val\n",
    "        self.max_val = max_val\n",
    "        \n",
    "    def call(self, inputs):\n",
    "        outputs = tf.sigmoid(inputs)* (self.max_val- self.min_val)+ self.min_val\n",
    "        output = tf.reduce_mean(outputs, axis=1, keepdims=True)\n",
    "        \n",
    "        return output\n",
    "        \n",
    "def get_model(seq_1_len, seq_2_len, feats_len, seq_1_max, seq_2_max, out_min_val, out_max_val, use_cuslayer=True):\n",
    "    seq_1 = layers.Input((seq_1_len,))\n",
    "    s_1 = layers.Embedding(seq_1_max, 128)(seq_1)\n",
    "    s_1 = TransformerBlock(128, 4, 128)(s_1)\n",
    "    s_1 = layers.GlobalAvgPool1D()(s_1)\n",
    "    \n",
    "    seq_2 = layers.Input((seq_2_len,))\n",
    "    s_2 = layers.Embedding(seq_2_max, 128)(seq_2)\n",
    "    s_2 = TransformerBlock(128, 4, 128)(s_2)\n",
    "    s_2 = layers.GlobalAvgPool1D()(s_2)\n",
    "    \n",
    "    rest_ = layers.Input((feats_len,))\n",
    "    \n",
    "    vec = layers.Concatenate(axis=1)([s_1, s_2, layers.Dense(64)(rest_)])\n",
    "    vec = layers.Dense(64)(vec)\n",
    "    if use_cuslayer:\n",
    "        out = CustomOutputLayer(out_min_val, out_max_val)(vec)\n",
    "    else:\n",
    "        out = layers.Dense(1)(vec)\n",
    "        \n",
    "    model = Model(inputs=[seq_1, seq_2, rest_], outputs=[out])\n",
    "    \n",
    "    return model"
   ]
  },
  {
   "cell_type": "code",
   "execution_count": 6,
   "metadata": {
    "colab": {
     "base_uri": "https://localhost:8080/"
    },
    "id": "D5pY_ZDHNwu0",
    "outputId": "4642b0af-5151-42ba-a425-28f0ce290a6c"
   },
   "outputs": [
    {
     "name": "stdout",
     "output_type": "stream",
     "text": [
      "Model: \"model\"\n",
      "__________________________________________________________________________________________________\n",
      " Layer (type)                   Output Shape         Param #     Connected to                     \n",
      "==================================================================================================\n",
      " input_1 (InputLayer)           [(None, 20)]         0           []                               \n",
      "                                                                                                  \n",
      " input_2 (InputLayer)           [(None, 64)]         0           []                               \n",
      "                                                                                                  \n",
      " embedding (Embedding)          (None, 20, 128)      5120000     ['input_1[0][0]']                \n",
      "                                                                                                  \n",
      " embedding_1 (Embedding)        (None, 64, 128)      10240000    ['input_2[0][0]']                \n",
      "                                                                                                  \n",
      " transformer_block (Transformer  (None, 20, 128)     297344      ['embedding[0][0]']              \n",
      " Block)                                                                                           \n",
      "                                                                                                  \n",
      " transformer_block_1 (Transform  (None, 64, 128)     297344      ['embedding_1[0][0]']            \n",
      " erBlock)                                                                                         \n",
      "                                                                                                  \n",
      " input_3 (InputLayer)           [(None, 5248)]       0           []                               \n",
      "                                                                                                  \n",
      " global_average_pooling1d (Glob  (None, 128)         0           ['transformer_block[0][0]']      \n",
      " alAveragePooling1D)                                                                              \n",
      "                                                                                                  \n",
      " global_average_pooling1d_1 (Gl  (None, 128)         0           ['transformer_block_1[0][0]']    \n",
      " obalAveragePooling1D)                                                                            \n",
      "                                                                                                  \n",
      " dense_4 (Dense)                (None, 64)           335936      ['input_3[0][0]']                \n",
      "                                                                                                  \n",
      " concatenate (Concatenate)      (None, 320)          0           ['global_average_pooling1d[0][0]'\n",
      "                                                                 , 'global_average_pooling1d_1[0][\n",
      "                                                                 0]',                             \n",
      "                                                                  'dense_4[0][0]']                \n",
      "                                                                                                  \n",
      " dense_5 (Dense)                (None, 64)           20544       ['concatenate[0][0]']            \n",
      "                                                                                                  \n",
      " custom_output_layer (CustomOut  (None, 1)           0           ['dense_5[0][0]']                \n",
      " putLayer)                                                                                        \n",
      "                                                                                                  \n",
      "==================================================================================================\n",
      "Total params: 16,311,168\n",
      "Trainable params: 16,311,168\n",
      "Non-trainable params: 0\n",
      "__________________________________________________________________________________________________\n",
      "Epoch 1/4\n",
      "927/927 [==============================] - 331s 353ms/step - loss: 0.2505 - val_loss: 0.2183\n",
      "Epoch 2/4\n",
      "927/927 [==============================] - 327s 353ms/step - loss: 0.1953 - val_loss: 0.2001\n",
      "Epoch 3/4\n",
      "927/927 [==============================] - 326s 352ms/step - loss: 0.1768 - val_loss: 0.1975\n",
      "Epoch 4/4\n",
      "927/927 [==============================] - 327s 353ms/step - loss: 0.1634 - val_loss: 0.1956\n"
     ]
    }
   ],
   "source": [
    "model_1 = get_model(pipe_name.transform(df_train.iloc[0:1]).shape[1],\n",
    "                  pipe_desc.transform(df_train.iloc[0:1]).shape[1],\n",
    "                  pipe_othe.transform(df_train.iloc[0:1]).shape[1],\n",
    "                  MAX_NUM_WORDS_NAME,\n",
    "                  MAX_NUM_WORDS_DESC,\n",
    "                  0,\n",
    "                  8\n",
    "                 )\n",
    "model_1.summary()\n",
    "model_1.compile(loss='mse', optimizer=keras.optimizers.Adam(beta_1=0.9, beta_2=0.9))\n",
    "history_1 = model_1.fit(dg_train, validation_data=dg_valid, epochs=4, verbose=1)"
   ]
  },
  {
   "cell_type": "code",
   "execution_count": 7,
   "metadata": {
    "colab": {
     "base_uri": "https://localhost:8080/"
    },
    "id": "w_n5b7OXQVRa",
    "outputId": "869f6ffd-8cca-4281-d9dc-c1fbb195afec"
   },
   "outputs": [
    {
     "name": "stdout",
     "output_type": "stream",
     "text": [
      "Model: \"model_1\"\n",
      "__________________________________________________________________________________________________\n",
      " Layer (type)                   Output Shape         Param #     Connected to                     \n",
      "==================================================================================================\n",
      " input_4 (InputLayer)           [(None, 20)]         0           []                               \n",
      "                                                                                                  \n",
      " input_5 (InputLayer)           [(None, 64)]         0           []                               \n",
      "                                                                                                  \n",
      " embedding_2 (Embedding)        (None, 20, 128)      5120000     ['input_4[0][0]']                \n",
      "                                                                                                  \n",
      " embedding_3 (Embedding)        (None, 64, 128)      10240000    ['input_5[0][0]']                \n",
      "                                                                                                  \n",
      " transformer_block_2 (Transform  (None, 20, 128)     297344      ['embedding_2[0][0]']            \n",
      " erBlock)                                                                                         \n",
      "                                                                                                  \n",
      " transformer_block_3 (Transform  (None, 64, 128)     297344      ['embedding_3[0][0]']            \n",
      " erBlock)                                                                                         \n",
      "                                                                                                  \n",
      " input_6 (InputLayer)           [(None, 5248)]       0           []                               \n",
      "                                                                                                  \n",
      " global_average_pooling1d_2 (Gl  (None, 128)         0           ['transformer_block_2[0][0]']    \n",
      " obalAveragePooling1D)                                                                            \n",
      "                                                                                                  \n",
      " global_average_pooling1d_3 (Gl  (None, 128)         0           ['transformer_block_3[0][0]']    \n",
      " obalAveragePooling1D)                                                                            \n",
      "                                                                                                  \n",
      " dense_10 (Dense)               (None, 64)           335936      ['input_6[0][0]']                \n",
      "                                                                                                  \n",
      " concatenate_1 (Concatenate)    (None, 320)          0           ['global_average_pooling1d_2[0][0\n",
      "                                                                 ]',                              \n",
      "                                                                  'global_average_pooling1d_3[0][0\n",
      "                                                                 ]',                              \n",
      "                                                                  'dense_10[0][0]']               \n",
      "                                                                                                  \n",
      " dense_11 (Dense)               (None, 64)           20544       ['concatenate_1[0][0]']          \n",
      "                                                                                                  \n",
      " dense_12 (Dense)               (None, 1)            65          ['dense_11[0][0]']               \n",
      "                                                                                                  \n",
      "==================================================================================================\n",
      "Total params: 16,311,233\n",
      "Trainable params: 16,311,233\n",
      "Non-trainable params: 0\n",
      "__________________________________________________________________________________________________\n",
      "Epoch 1/4\n",
      "927/927 [==============================] - 330s 353ms/step - loss: 0.3413 - val_loss: 0.2792\n",
      "Epoch 2/4\n",
      "927/927 [==============================] - 327s 353ms/step - loss: 0.2083 - val_loss: 0.2156\n",
      "Epoch 3/4\n",
      "927/927 [==============================] - 328s 353ms/step - loss: 0.1932 - val_loss: 0.2207\n",
      "Epoch 4/4\n",
      "927/927 [==============================] - 327s 353ms/step - loss: 0.1804 - val_loss: 0.2433\n"
     ]
    }
   ],
   "source": [
    "model_2 = get_model(pipe_name.transform(df_train.iloc[0:1]).shape[1],\n",
    "                  pipe_desc.transform(df_train.iloc[0:1]).shape[1],\n",
    "                  pipe_othe.transform(df_train.iloc[0:1]).shape[1],\n",
    "                  MAX_NUM_WORDS_NAME,\n",
    "                  MAX_NUM_WORDS_DESC,\n",
    "                  0,\n",
    "                  8,\n",
    "                  use_cuslayer=False\n",
    "                 )\n",
    "model_2.summary()\n",
    "model_2.compile(loss='mse', optimizer=keras.optimizers.Adam(beta_1=0.9, beta_2=0.9))\n",
    "history_2 = model_2.fit(dg_train, validation_data=dg_valid, epochs=4, verbose=1)"
   ]
  },
  {
   "cell_type": "code",
   "execution_count": 22,
   "metadata": {
    "colab": {
     "base_uri": "https://localhost:8080/",
     "height": 308
    },
    "id": "7vdVCYq4fQ27",
    "outputId": "0b97ee63-d293-431f-b31a-f9613bcc130c"
   },
   "outputs": [
    {
     "data": {
      "image/png": "[encoded data removed]",
      "text/plain": [
       "<Figure size 1152x288 with 2 Axes>"
      ]
     },
     "metadata": {
      "needs_background": "light"
     },
     "output_type": "display_data"
    }
   ],
   "source": [
    "import matplotlib.pyplot as plt\n",
    "plt.figure(figsize=(16, 4))\n",
    "plt.subplots_adjust(hspace=0.2, wspace=0.2)\n",
    "plt.suptitle('Compare models results', fontsize=18)\n",
    "ax = plt.subplot(1, 2, 1)\n",
    "ax.set_title(f'model train loss', fontsize=16)\n",
    "plt.plot(history_1.history['loss'])\n",
    "plt.plot(history_2.history['loss'])\n",
    "plt.title('model train loss')\n",
    "plt.ylabel('loss')\n",
    "plt.xlabel('epoch')\n",
    "plt.legend(['train_loss with cuslayer', 'train_loss without cuslayer'], loc='upper right')\n",
    "ax = plt.subplot(1, 2, 2)\n",
    "ax.set_title(f'model validation loss', fontsize=16)\n",
    "plt.plot(history_1.history['val_loss'])\n",
    "plt.plot(history_2.history['val_loss'])\n",
    "plt.title('model validation loss')\n",
    "plt.ylabel('loss')\n",
    "plt.xlabel('epoch')\n",
    "plt.legend(['val_loss with cuslayer', 'val_loss without cuslayer'], loc='upper right')\n",
    "plt.show()"
   ]
  },
  {
   "cell_type": "code",
   "execution_count": 32,
   "metadata": {
    "colab": {
     "base_uri": "https://localhost:8080/",
     "height": 326
    },
    "id": "NxTkrUvqiFAK",
    "outputId": "a20195e5-b2e2-41c7-cbb5-f6774caf7b48"
   },
   "outputs": [
    {
     "data": {
      "text/plain": [
       "<matplotlib.legend.Legend at 0x7fa6cf5feb90>"
      ]
     },
     "execution_count": 32,
     "metadata": {},
     "output_type": "execute_result"
    },
    {
     "data": {
      "image/png": "[encoded data removed]",
      "text/plain": [
       "<Figure size 1152x288 with 1 Axes>"
      ]
     },
     "metadata": {
      "needs_background": "light"
     },
     "output_type": "display_data"
    }
   ],
   "source": [
    "import matplotlib.pyplot as plt\n",
    "plt.figure(figsize=(16, 4))\n",
    "plt.subplots_adjust(hspace=0.2, wspace=0.2)\n",
    "plt.suptitle('Compare models results', fontsize=18)\n",
    "ax = plt.subplot(1, 2, 1)\n",
    "ax.set_title(f'model train loss', fontsize=16)\n",
    "plt.plot(history_1.history['loss'], 'b')\n",
    "plt.plot(history_1.history['val_loss'], 'b--')\n",
    "plt.plot(history_2.history['loss'], 'r')\n",
    "plt.plot(history_2.history['val_loss'], 'r--')\n",
    "plt.title('model train loss')\n",
    "plt.ylabel('loss')\n",
    "plt.xlabel('epoch')\n",
    "plt.legend(['trin_loss with cuslayer', 'val_loss with cuslayer', 'trin_loss without cuslayer', 'val_loss without cuslayer'], loc='upper right')"
   ]
  },
  {
   "cell_type": "markdown",
   "metadata": {},
   "source": [
    "## Save models"
   ]
  },
  {
   "cell_type": "code",
   "execution_count": 10,
   "metadata": {
    "id": "NBdoNbK4ile0"
   },
   "outputs": [],
   "source": [
    "joblib.dump(pipes, MODELS_PATH+ 'pipes.pkl')\n",
    "model_1.save_weights(MODELS_PATH+ 'model_1_weights.hdf')\n",
    "model_2.save_weights(MODELS_PATH+ 'model_2_weights.hdf')"
   ]
  },
  {
   "cell_type": "code",
   "execution_count": null,
   "metadata": {
    "id": "Y_U6BL6Cpxig"
   },
   "outputs": [],
   "source": []
  }
 ],
 "metadata": {
  "accelerator": "GPU",
  "colab": {
   "collapsed_sections": [],
   "name": "mpsc_train_fixed.ipynb",
   "provenance": []
  },
  "kernelspec": {
   "display_name": "Python 3 (ipykernel)",
   "language": "python",
   "name": "python3"
  },
  "language_info": {
   "codemirror_mode": {
    "name": "ipython",
    "version": 3
   },
   "file_extension": ".py",
   "mimetype": "text/x-python",
   "name": "python",
   "nbconvert_exporter": "python",
   "pygments_lexer": "ipython3",
   "version": "3.10.1"
  }
 },
 "nbformat": 4,
 "nbformat_minor": 1
}
